{
 "cells": [
  {
   "cell_type": "code",
   "execution_count": 1,
   "id": "2808d8e8",
   "metadata": {},
   "outputs": [
    {
     "name": "stdout",
     "output_type": "stream",
     "text": [
      "Durning Program Time(sec):  0.0\n",
      "Durning Program Time(sec):  0.0\n"
     ]
    }
   ],
   "source": [
    "import time\n",
    "import sys\n",
    "import cp_wafermap as cpwafer"
   ]
  },
  {
   "cell_type": "code",
   "execution_count": 2,
   "id": "585b331d",
   "metadata": {},
   "outputs": [
    {
     "name": "stdout",
     "output_type": "stream",
     "text": [
      "Wafer map csv:I:\\Work\\Zettmage\\Data\\Work\\ZP6024\\CP\\Chroma\\STDFSample\\CPResult_P8P125.00(#6_#9)_20221020\\P8P125.00(#6_#9)\\WaferMap\\WaferMap_P8P125.00#06.csv\n",
      "OneWafer_Array shape:(49, 35)\n",
      "Wafer width:33, height:46\n",
      "Wafer map csv:I:\\Work\\Zettmage\\Data\\Work\\ZP6024\\CP\\Chroma\\STDFSample\\CPResult_P8P125.00(#6_#9)_20221020\\P8P125.00(#6_#9)\\WaferMap\\WaferMap_P8P125.00#07.csv\n",
      "OneWafer_Array shape:(49, 35)\n",
      "Wafer width:33, height:46\n",
      "Wafer map csv:I:\\Work\\Zettmage\\Data\\Work\\ZP6024\\CP\\Chroma\\STDFSample\\CPResult_P8P125.00(#6_#9)_20221020\\P8P125.00(#6_#9)\\WaferMap\\WaferMap_P8P125.00#08.csv\n",
      "OneWafer_Array shape:(49, 35)\n",
      "Wafer width:33, height:46\n",
      "Wafer map csv:I:\\Work\\Zettmage\\Data\\Work\\ZP6024\\CP\\Chroma\\STDFSample\\CPResult_P8P125.00(#6_#9)_20221020\\P8P125.00(#6_#9)\\WaferMap\\WaferMap_P8P125.00#09.csv\n",
      "OneWafer_Array shape:(49, 35)\n",
      "Wafer width:33, height:46\n",
      "Combine finish!!\n"
     ]
    },
    {
     "data": {
      "image/png": "[encoded data removed]",
      "text/plain": [
       "<Figure size 432x288 with 2 Axes>"
      ]
     },
     "metadata": {
      "needs_background": "light"
     },
     "output_type": "display_data"
    },
    {
     "name": "stdout",
     "output_type": "stream",
     "text": [
      "Finish!! Durning Time(sec):  0.22714805603027344\n"
     ]
    }
   ],
   "source": [
    "StartTime = time.time()\n",
    "\n",
    "if __name__ == '__main__':\n",
    "    #print(len(sys.argv))\n",
    "    #print(sys.argv)\n",
    "    WaferMain = cpwafer.ResultHandler()\n",
    "    WaferMain.StartTest()\n",
    "    pass\n",
    "\n",
    "EndTime = time.time()\n",
    "print(\"Finish!! Durning Time(sec): \", EndTime - StartTime)"
   ]
  }
 ],
 "metadata": {
  "kernelspec": {
   "display_name": "Python 3.9.12 ('base')",
   "language": "python",
   "name": "python3"
  },
  "language_info": {
   "codemirror_mode": {
    "name": "ipython",
    "version": 3
   },
   "file_extension": ".py",
   "mimetype": "text/x-python",
   "name": "python",
   "nbconvert_exporter": "python",
   "pygments_lexer": "ipython3",
   "version": "3.9.12"
  },
  "vscode": {
   "interpreter": {
    "hash": "92741d12324eb674e26cfcd4c7472129578238c0131d917055dcf1987a5779ff"
   }
  }
 },
 "nbformat": 4,
 "nbformat_minor": 5
}
